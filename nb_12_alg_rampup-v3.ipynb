{
 "cells": [
  {
   "cell_type": "markdown",
   "metadata": {},
   "source": [
    "# 12 Review of rampup-v3 with A2C\n",
    "\n",
    "The observation in v3 is changed because it is not neccessary to provide the entire demand array. A preprocessed datum can compress all required information and discard irrelevant details. Information on precise demand is moved from the observation space to the info bit of `step()`."
   ]
  },
  {
   "cell_type": "code",
   "execution_count": 1,
   "metadata": {},
   "outputs": [],
   "source": [
    "import os\n",
    "import subprocess\n",
    "import webbrowser\n",
    "\n",
    "from stable_baselines3.common.sb2_compat.rmsprop_tf_like import RMSpropTFLike\n",
    "\n",
    "from plan_opt.create import env_cb_creator\n",
    "from plan_opt.demand import Demand\n",
    "from plan_opt.demand_small_samples import four_weeks_uprising\n",
    "from plan_opt.env_health import env_health\n",
    "from plan_opt.train_eval3 import train_and_evaluate"
   ]
  },
  {
   "cell_type": "markdown",
   "metadata": {},
   "source": [
    "With default policy settings, training is worse and less stable."
   ]
  },
  {
   "cell_type": "code",
   "execution_count": 2,
   "metadata": {},
   "outputs": [],
   "source": [
    "config = {\n",
    "    # ENVIRONMENT CONFIGURATION\n",
    "    \"ENV_ID\": \"rampup-v3\",\n",
    "    \"REWARD_THRESHOLD\": 80,\n",
    "    \"PUNISH_ILLEGAL\": True,\n",
    "    # WORKFLOW CONFIGURATION\n",
    "    \"TENSORBOARD_LOG\": \"logs/rampup_tensorboard/\",\n",
    "    \"TIMESTEPS\": 100000,\n",
    "    \"REPETITIONS\": 1,\n",
    "    \"EVAL_EPISODES\": 50,\n",
    "    \"SHOW_TABLE\": False,\n",
    "    \"LEARNING_RATE\": 0.0007,\n",
    "    \"POLICY_KWARGS\": {\n",
    "        \"optimizer_class\": RMSpropTFLike,\n",
    "        \"optimizer_kwargs\": {\n",
    "            \"alpha\": 0.99,\n",
    "            \"eps\": 1e-5,\n",
    "            \"weight_decay\": 0,\n",
    "        },\n",
    "    },\n",
    "}"
   ]
  },
  {
   "cell_type": "code",
   "execution_count": 3,
   "metadata": {},
   "outputs": [
    {
     "data": {
      "text/plain": [
       "'_100k_legal_chg'"
      ]
     },
     "execution_count": 3,
     "metadata": {},
     "output_type": "execute_result"
    }
   ],
   "source": [
    "tb_suffix = \"\"\n",
    "tb_suffix += f\"_{str(config['TIMESTEPS'])[:-3]}k\"\n",
    "if config[\"PUNISH_ILLEGAL\"]:\n",
    "    tb_suffix += f\"_legal_chg\"\n",
    "tb_suffix"
   ]
  },
  {
   "cell_type": "code",
   "execution_count": 4,
   "metadata": {},
   "outputs": [
    {
     "data": {
      "image/png": "[encoded data removed]",
      "text/plain": [
       "<Figure size 432x288 with 1 Axes>"
      ]
     },
     "metadata": {
      "needs_background": "light"
     },
     "output_type": "display_data"
    }
   ],
   "source": [
    "demand_4W = Demand(period=len(four_weeks_uprising), data=four_weeks_uprising)\n",
    "env_4W, eval_callback_4W, demand_4W = env_cb_creator(config, demand_4W)"
   ]
  },
  {
   "cell_type": "markdown",
   "metadata": {},
   "source": [
    "### Quick Health Check\n",
    "- The observation is much neater compared to earlier versions"
   ]
  },
  {
   "cell_type": "code",
   "execution_count": 5,
   "metadata": {
    "scrolled": false
   },
   "outputs": [
    {
     "name": "stdout",
     "output_type": "stream",
     "text": [
      "Random step:\t 0\n",
      "Timestep:\t 6 \n",
      "Action:\t\t 1 \n",
      "Demand:\t\t 0 \n",
      "Reward:\t\t -2000 \n",
      "Done:\t\t False \n",
      "Info:\t\t \n",
      "  timestep_change          5 -> 6\n",
      "  action_change            0 -> 1\n",
      "  demand_surrounding       [0]-NOW(0)-[0 0 0]\n",
      "  next_profitable_demand   13\n",
      "  demand_observation       0.07692307978868484 \n",
      "Shape:\t\t (5,) \n",
      "Observation:\n",
      " [0.07692308 0.         1.         0.         0.        ] \n",
      "\n",
      "Random step:\t 1\n",
      "Timestep:\t 6 \n",
      "Action:\t\t 1 \n",
      "Demand:\t\t 0 \n",
      "Reward:\t\t -2000 \n",
      "Done:\t\t False \n",
      "Info:\t\t \n",
      "  timestep_change          5 -> 6\n",
      "  action_change            0 -> 1\n",
      "  demand_surrounding       [0]-NOW(0)-[0 0 0]\n",
      "  next_profitable_demand   13\n",
      "  demand_observation       0.07692307978868484 \n",
      "Shape:\t\t (5,) \n",
      "Observation:\n",
      " [0.07692308 0.         1.         0.         0.        ] \n",
      "\n",
      "Random step:\t 2\n",
      "Timestep:\t 15 \n",
      "Action:\t\t 3 \n",
      "Demand:\t\t 0 \n",
      "Reward:\t\t -500 \n",
      "Done:\t\t False \n",
      "Info:\t\t \n",
      "  timestep_change          14 -> 15\n",
      "  action_change            2 -> 3\n",
      "  demand_surrounding       [0]-NOW(0)-[60 25 32]\n",
      "  next_profitable_demand   4\n",
      "  demand_observation       0.25 \n",
      "Shape:\t\t (5,) \n",
      "Observation:\n",
      " [0.25 0.   0.   0.   1.  ] \n",
      "\n"
     ]
    }
   ],
   "source": [
    "env_health(config, env_4W, first_step=False, random_steps=3, verbose=0)"
   ]
  },
  {
   "cell_type": "markdown",
   "metadata": {},
   "source": [
    "### Train and Evaluate\n",
    "Results look much more promising, as illegal moves are clearly learned and avoided. There are significant differences between repetitions!"
   ]
  },
  {
   "cell_type": "code",
   "execution_count": 6,
   "metadata": {
    "scrolled": false
   },
   "outputs": [
    {
     "name": "stdout",
     "output_type": "stream",
     "text": [
      "\n",
      "Running repetition 1/1...\n",
      "POLICY EVALUATION RESULTS\n",
      "Evaluated episodes:\t50\n",
      "Mean reward:\t\t32130.0\n",
      "Standard deviation:\t16189.752932024627\n",
      "Economic potential:\t41000\n",
      "Lost potential:\t\t8870.0 (21.6341%)\n"
     ]
    }
   ],
   "source": [
    "best_model, train_env, eval_env = train_and_evaluate(\n",
    "    config=config,\n",
    "    train_env=env_4W,\n",
    "    eval_env=env_4W,\n",
    "    eval_callback=eval_callback_4W,\n",
    "    tb_log_name=f\"A2C_train4W_eval4W_{tb_suffix}\",\n",
    ")"
   ]
  },
  {
   "cell_type": "markdown",
   "metadata": {},
   "source": [
    "15 repetitions over 150k episodes show results with variance remaining when applying the models!\n",
    "\n",
    "![Evaluation](docs/nb12-eval.png)"
   ]
  },
  {
   "cell_type": "markdown",
   "metadata": {},
   "source": [
    "### Tensorboard"
   ]
  },
  {
   "cell_type": "code",
   "execution_count": 7,
   "metadata": {},
   "outputs": [],
   "source": [
    "if 1 == 0:\n",
    "    pid = subprocess.Popen(\n",
    "        [\"tensorboard\", \"--logdir\", f\"./{config['TENSORBOARD_LOG']}\", \"--port\", \"6006\"]\n",
    "    )\n",
    "    os.system(\"sleep 5\")\n",
    "    webbrowser.open(\"http://localhost:6006\")"
   ]
  },
  {
   "cell_type": "code",
   "execution_count": null,
   "metadata": {},
   "outputs": [],
   "source": []
  }
 ],
 "metadata": {
  "jupytext": {
   "formats": "ipynb,py:percent"
  },
  "kernelspec": {
   "display_name": "Python 3",
   "language": "python",
   "name": "python3"
  },
  "language_info": {
   "codemirror_mode": {
    "name": "ipython",
    "version": 3
   },
   "file_extension": ".py",
   "mimetype": "text/x-python",
   "name": "python",
   "nbconvert_exporter": "python",
   "pygments_lexer": "ipython3",
   "version": "3.8.5"
  }
 },
 "nbformat": 4,
 "nbformat_minor": 4
}
