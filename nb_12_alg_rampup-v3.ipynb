{
 "cells": [
  {
   "cell_type": "markdown",
   "metadata": {},
   "source": [
    "# 12 Review of rampup-v3 with A2C\n",
    "\n",
    "The observation in v3 is changed because it is not neccessary to provide the entire demand array. A preprocessed datum can compress all required information and discard irrelevant details. Information on precise demand is moved from the observation space to the info bit of `step()`."
   ]
  },
  {
   "cell_type": "code",
   "execution_count": 1,
   "metadata": {},
   "outputs": [],
   "source": [
    "import os\n",
    "import subprocess\n",
    "import webbrowser\n",
    "\n",
    "from stable_baselines3.common.sb2_compat.rmsprop_tf_like import RMSpropTFLike\n",
    "\n",
    "from plan_opt.create import env_cb_creator\n",
    "from plan_opt.demand import Demand\n",
    "from plan_opt.demand_small_samples import four_weeks_uprising\n",
    "from plan_opt.env_health import env_health\n",
    "from plan_opt.train_eval3 import train_and_evaluate"
   ]
  },
  {
   "cell_type": "markdown",
   "metadata": {},
   "source": [
    "With default policy settings, training is worse and less stable."
   ]
  },
  {
   "cell_type": "code",
   "execution_count": 2,
   "metadata": {},
   "outputs": [],
   "source": [
    "config = {\n",
    "    # ENVIRONMENT CONFIGURATION\n",
    "    \"ENV_ID\": \"rampup-v3\",\n",
    "    \"REWARD_THRESHOLD\": 80,\n",
    "    \"PUNISH_ILLEGAL\": True,\n",
    "    # WORKFLOW CONFIGURATION\n",
    "    \"TENSORBOARD_LOG\": \"logs/rampup_tensorboard/\",\n",
    "    \"TIMESTEPS\": 100000,\n",
    "    \"REPETITIONS\": 15,\n",
    "    \"EVAL_EPISODES\": 50,\n",
    "    \"SHOW_TABLE\": False,\n",
    "    \"LEARNING_RATE\": 0.0007,\n",
    "    \"POLICY_KWARGS\": {\n",
    "        \"optimizer_class\": RMSpropTFLike,\n",
    "        \"optimizer_kwargs\": {\"alpha\": 0.99, \"eps\": 1e-8, \"weight_decay\": 0,},\n",
    "    },\n",
    "}"
   ]
  },
  {
   "cell_type": "code",
   "execution_count": 3,
   "metadata": {},
   "outputs": [
    {
     "output_type": "execute_result",
     "data": {
      "text/plain": [
       "'_100k_legal_chg'"
      ]
     },
     "metadata": {},
     "execution_count": 3
    }
   ],
   "source": [
    "tb_suffix = \"\"\n",
    "tb_suffix += f\"_{str(config['TIMESTEPS'])[:-3]}k\"\n",
    "if config[\"PUNISH_ILLEGAL\"]:\n",
    "    tb_suffix += f\"_legal_chg\"\n",
    "tb_suffix"
   ]
  },
  {
   "cell_type": "code",
   "execution_count": 4,
   "metadata": {},
   "outputs": [
    {
     "output_type": "display_data",
     "data": {
      "text/plain": "<Figure size 432x288 with 1 Axes>",
      "image/svg+xml": "<?xml version=\"1.0\" encoding=\"utf-8\" standalone=\"no\"?>\n<!DOCTYPE svg PUBLIC \"-//W3C//DTD SVG 1.1//EN\"\n  \"http://www.w3.org/Graphics/SVG/1.1/DTD/svg11.dtd\">\n<!-- Created with matplotlib (https://matplotlib.org/) -->\n<svg height=\"248.518125pt\" version=\"1.1\" viewBox=\"0 0 368.925 248.518125\" width=\"368.925pt\" xmlns=\"http://www.w3.org/2000/svg\" xmlns:xlink=\"http://www.w3.org/1999/xlink\">\n <metadata>\n  <rdf:RDF xmlns:cc=\"http://creativecommons.org/ns#\" xmlns:dc=\"http://purl.org/dc/elements/1.1/\" xmlns:rdf=\"http://www.w3.org/1999/02/22-rdf-syntax-ns#\">\n   <cc:Work>\n    <dc:type rdf:resource=\"http://purl.org/dc/dcmitype/StillImage\"/>\n    <dc:date>2021-01-31T20:11:05.761360</dc:date>\n    <dc:format>image/svg+xml</dc:format>\n    <dc:creator>\n     <cc:Agent>\n      <dc:title>Matplotlib v3.3.4, https://matplotlib.org/</dc:title>\n     </cc:Agent>\n    </dc:creator>\n   </cc:Work>\n  </rdf:RDF>\n </metadata>\n <defs>\n  <style type=\"text/css\">*{stroke-linecap:butt;stroke-linejoin:round;}</style>\n </defs>\n <g id=\"figure_1\">\n  <g id=\"patch_1\">\n   <path d=\"M -0 248.518125 \nL 368.925 248.518125 \nL 368.925 0 \nL -0 0 \nz\n\" style=\"fill:none;\"/>\n  </g>\n  <g id=\"axes_1\">\n   <g id=\"patch_2\">\n    <path d=\"M 26.925 224.64 \nL 361.725 224.64 \nL 361.725 7.2 \nL 26.925 7.2 \nz\n\" style=\"fill:#ffffff;\"/>\n   </g>\n   <g id=\"PathCollection_1\">\n    <defs>\n     <path d=\"M 0 3 \nC 0.795609 3 1.55874 2.683901 2.12132 2.12132 \nC 2.683901 1.55874 3 0.795609 3 0 \nC 3 -0.795609 2.683901 -1.55874 2.12132 -2.12132 \nC 1.55874 -2.683901 0.795609 -3 0 -3 \nC -0.795609 -3 -1.55874 -2.683901 -2.12132 -2.12132 \nC -2.683901 -1.55874 -3 -0.795609 -3 0 \nC -3 0.795609 -2.683901 1.55874 -2.12132 2.12132 \nC -1.55874 2.683901 -0.795609 3 0 3 \nz\n\" id=\"m586793f41d\" style=\"stroke:#1f77b4;stroke-opacity:0.5;\"/>\n    </defs>\n    <g clip-path=\"url(#p43855a19f9)\">\n     <use style=\"fill:#1f77b4;fill-opacity:0.5;stroke:#1f77b4;stroke-opacity:0.5;\" x=\"42.143182\" xlink:href=\"#m586793f41d\" y=\"214.756364\"/>\n     <use style=\"fill:#1f77b4;fill-opacity:0.5;stroke:#1f77b4;stroke-opacity:0.5;\" x=\"53.415909\" xlink:href=\"#m586793f41d\" y=\"214.756364\"/>\n     <use style=\"fill:#1f77b4;fill-opacity:0.5;stroke:#1f77b4;stroke-opacity:0.5;\" x=\"64.688636\" xlink:href=\"#m586793f41d\" y=\"214.756364\"/>\n     <use style=\"fill:#1f77b4;fill-opacity:0.5;stroke:#1f77b4;stroke-opacity:0.5;\" x=\"75.961364\" xlink:href=\"#m586793f41d\" y=\"214.756364\"/>\n     <use style=\"fill:#1f77b4;fill-opacity:0.5;stroke:#1f77b4;stroke-opacity:0.5;\" x=\"87.234091\" xlink:href=\"#m586793f41d\" y=\"214.756364\"/>\n     <use style=\"fill:#1f77b4;fill-opacity:0.5;stroke:#1f77b4;stroke-opacity:0.5;\" x=\"98.506818\" xlink:href=\"#m586793f41d\" y=\"214.756364\"/>\n     <use style=\"fill:#1f77b4;fill-opacity:0.5;stroke:#1f77b4;stroke-opacity:0.5;\" x=\"109.779545\" xlink:href=\"#m586793f41d\" y=\"214.756364\"/>\n     <use style=\"fill:#1f77b4;fill-opacity:0.5;stroke:#1f77b4;stroke-opacity:0.5;\" x=\"121.052273\" xlink:href=\"#m586793f41d\" y=\"214.756364\"/>\n     <use style=\"fill:#1f77b4;fill-opacity:0.5;stroke:#1f77b4;stroke-opacity:0.5;\" x=\"132.325\" xlink:href=\"#m586793f41d\" y=\"214.756364\"/>\n     <use style=\"fill:#1f77b4;fill-opacity:0.5;stroke:#1f77b4;stroke-opacity:0.5;\" x=\"143.597727\" xlink:href=\"#m586793f41d\" y=\"214.756364\"/>\n     <use style=\"fill:#1f77b4;fill-opacity:0.5;stroke:#1f77b4;stroke-opacity:0.5;\" x=\"154.870455\" xlink:href=\"#m586793f41d\" y=\"210.45913\"/>\n     <use style=\"fill:#1f77b4;fill-opacity:0.5;stroke:#1f77b4;stroke-opacity:0.5;\" x=\"166.143182\" xlink:href=\"#m586793f41d\" y=\"214.756364\"/>\n     <use style=\"fill:#1f77b4;fill-opacity:0.5;stroke:#1f77b4;stroke-opacity:0.5;\" x=\"177.415909\" xlink:href=\"#m586793f41d\" y=\"208.310514\"/>\n     <use style=\"fill:#1f77b4;fill-opacity:0.5;stroke:#1f77b4;stroke-opacity:0.5;\" x=\"188.688636\" xlink:href=\"#m586793f41d\" y=\"212.607747\"/>\n     <use style=\"fill:#1f77b4;fill-opacity:0.5;stroke:#1f77b4;stroke-opacity:0.5;\" x=\"199.961364\" xlink:href=\"#m586793f41d\" y=\"214.756364\"/>\n     <use style=\"fill:#1f77b4;fill-opacity:0.5;stroke:#1f77b4;stroke-opacity:0.5;\" x=\"211.234091\" xlink:href=\"#m586793f41d\" y=\"214.756364\"/>\n     <use style=\"fill:#1f77b4;fill-opacity:0.5;stroke:#1f77b4;stroke-opacity:0.5;\" x=\"222.506818\" xlink:href=\"#m586793f41d\" y=\"85.839368\"/>\n     <use style=\"fill:#1f77b4;fill-opacity:0.5;stroke:#1f77b4;stroke-opacity:0.5;\" x=\"233.779545\" xlink:href=\"#m586793f41d\" y=\"161.040949\"/>\n     <use style=\"fill:#1f77b4;fill-opacity:0.5;stroke:#1f77b4;stroke-opacity:0.5;\" x=\"245.052273\" xlink:href=\"#m586793f41d\" y=\"146.000632\"/>\n     <use style=\"fill:#1f77b4;fill-opacity:0.5;stroke:#1f77b4;stroke-opacity:0.5;\" x=\"256.325\" xlink:href=\"#m586793f41d\" y=\"27.826719\"/>\n     <use style=\"fill:#1f77b4;fill-opacity:0.5;stroke:#1f77b4;stroke-opacity:0.5;\" x=\"267.597727\" xlink:href=\"#m586793f41d\" y=\"94.433834\"/>\n     <use style=\"fill:#1f77b4;fill-opacity:0.5;stroke:#1f77b4;stroke-opacity:0.5;\" x=\"278.870455\" xlink:href=\"#m586793f41d\" y=\"17.083636\"/>\n     <use style=\"fill:#1f77b4;fill-opacity:0.5;stroke:#1f77b4;stroke-opacity:0.5;\" x=\"290.143182\" xlink:href=\"#m586793f41d\" y=\"36.421186\"/>\n     <use style=\"fill:#1f77b4;fill-opacity:0.5;stroke:#1f77b4;stroke-opacity:0.5;\" x=\"301.415909\" xlink:href=\"#m586793f41d\" y=\"152.446482\"/>\n     <use style=\"fill:#1f77b4;fill-opacity:0.5;stroke:#1f77b4;stroke-opacity:0.5;\" x=\"312.688636\" xlink:href=\"#m586793f41d\" y=\"128.8117\"/>\n     <use style=\"fill:#1f77b4;fill-opacity:0.5;stroke:#1f77b4;stroke-opacity:0.5;\" x=\"323.961364\" xlink:href=\"#m586793f41d\" y=\"29.975336\"/>\n     <use style=\"fill:#1f77b4;fill-opacity:0.5;stroke:#1f77b4;stroke-opacity:0.5;\" x=\"335.234091\" xlink:href=\"#m586793f41d\" y=\"64.353202\"/>\n     <use style=\"fill:#1f77b4;fill-opacity:0.5;stroke:#1f77b4;stroke-opacity:0.5;\" x=\"346.506818\" xlink:href=\"#m586793f41d\" y=\"118.068617\"/>\n    </g>\n   </g>\n   <g id=\"matplotlib.axis_1\">\n    <g id=\"xtick_1\">\n     <g id=\"line2d_1\">\n      <defs>\n       <path d=\"M 0 0 \nL 0 3.5 \n\" id=\"md22bf62cad\" style=\"stroke:#000000;stroke-width:0.8;\"/>\n      </defs>\n      <g>\n       <use style=\"stroke:#000000;stroke-width:0.8;\" x=\"30.870455\" xlink:href=\"#md22bf62cad\" y=\"224.64\"/>\n      </g>\n     </g>\n     <g id=\"text_1\">\n      <!-- 0 -->\n      <g transform=\"translate(27.689205 239.238438)scale(0.1 -0.1)\">\n       <defs>\n        <path d=\"M 31.78125 66.40625 \nQ 24.171875 66.40625 20.328125 58.90625 \nQ 16.5 51.421875 16.5 36.375 \nQ 16.5 21.390625 20.328125 13.890625 \nQ 24.171875 6.390625 31.78125 6.390625 \nQ 39.453125 6.390625 43.28125 13.890625 \nQ 47.125 21.390625 47.125 36.375 \nQ 47.125 51.421875 43.28125 58.90625 \nQ 39.453125 66.40625 31.78125 66.40625 \nz\nM 31.78125 74.21875 \nQ 44.046875 74.21875 50.515625 64.515625 \nQ 56.984375 54.828125 56.984375 36.375 \nQ 56.984375 17.96875 50.515625 8.265625 \nQ 44.046875 -1.421875 31.78125 -1.421875 \nQ 19.53125 -1.421875 13.0625 8.265625 \nQ 6.59375 17.96875 6.59375 36.375 \nQ 6.59375 54.828125 13.0625 64.515625 \nQ 19.53125 74.21875 31.78125 74.21875 \nz\n\" id=\"DejaVuSans-48\"/>\n       </defs>\n       <use xlink:href=\"#DejaVuSans-48\"/>\n      </g>\n     </g>\n    </g>\n    <g id=\"xtick_2\">\n     <g id=\"line2d_2\">\n      <g>\n       <use style=\"stroke:#000000;stroke-width:0.8;\" x=\"87.234091\" xlink:href=\"#md22bf62cad\" y=\"224.64\"/>\n      </g>\n     </g>\n     <g id=\"text_2\">\n      <!-- 5 -->\n      <g transform=\"translate(84.052841 239.238438)scale(0.1 -0.1)\">\n       <defs>\n        <path d=\"M 10.796875 72.90625 \nL 49.515625 72.90625 \nL 49.515625 64.59375 \nL 19.828125 64.59375 \nL 19.828125 46.734375 \nQ 21.96875 47.46875 24.109375 47.828125 \nQ 26.265625 48.1875 28.421875 48.1875 \nQ 40.625 48.1875 47.75 41.5 \nQ 54.890625 34.8125 54.890625 23.390625 \nQ 54.890625 11.625 47.5625 5.09375 \nQ 40.234375 -1.421875 26.90625 -1.421875 \nQ 22.3125 -1.421875 17.546875 -0.640625 \nQ 12.796875 0.140625 7.71875 1.703125 \nL 7.71875 11.625 \nQ 12.109375 9.234375 16.796875 8.0625 \nQ 21.484375 6.890625 26.703125 6.890625 \nQ 35.15625 6.890625 40.078125 11.328125 \nQ 45.015625 15.765625 45.015625 23.390625 \nQ 45.015625 31 40.078125 35.4375 \nQ 35.15625 39.890625 26.703125 39.890625 \nQ 22.75 39.890625 18.8125 39.015625 \nQ 14.890625 38.140625 10.796875 36.28125 \nz\n\" id=\"DejaVuSans-53\"/>\n       </defs>\n       <use xlink:href=\"#DejaVuSans-53\"/>\n      </g>\n     </g>\n    </g>\n    <g id=\"xtick_3\">\n     <g id=\"line2d_3\">\n      <g>\n       <use style=\"stroke:#000000;stroke-width:0.8;\" x=\"143.597727\" xlink:href=\"#md22bf62cad\" y=\"224.64\"/>\n      </g>\n     </g>\n     <g id=\"text_3\">\n      <!-- 10 -->\n      <g transform=\"translate(137.235227 239.238438)scale(0.1 -0.1)\">\n       <defs>\n        <path d=\"M 12.40625 8.296875 \nL 28.515625 8.296875 \nL 28.515625 63.921875 \nL 10.984375 60.40625 \nL 10.984375 69.390625 \nL 28.421875 72.90625 \nL 38.28125 72.90625 \nL 38.28125 8.296875 \nL 54.390625 8.296875 \nL 54.390625 0 \nL 12.40625 0 \nz\n\" id=\"DejaVuSans-49\"/>\n       </defs>\n       <use xlink:href=\"#DejaVuSans-49\"/>\n       <use x=\"63.623047\" xlink:href=\"#DejaVuSans-48\"/>\n      </g>\n     </g>\n    </g>\n    <g id=\"xtick_4\">\n     <g id=\"line2d_4\">\n      <g>\n       <use style=\"stroke:#000000;stroke-width:0.8;\" x=\"199.961364\" xlink:href=\"#md22bf62cad\" y=\"224.64\"/>\n      </g>\n     </g>\n     <g id=\"text_4\">\n      <!-- 15 -->\n      <g transform=\"translate(193.598864 239.238438)scale(0.1 -0.1)\">\n       <use xlink:href=\"#DejaVuSans-49\"/>\n       <use x=\"63.623047\" xlink:href=\"#DejaVuSans-53\"/>\n      </g>\n     </g>\n    </g>\n    <g id=\"xtick_5\">\n     <g id=\"line2d_5\">\n      <g>\n       <use style=\"stroke:#000000;stroke-width:0.8;\" x=\"256.325\" xlink:href=\"#md22bf62cad\" y=\"224.64\"/>\n      </g>\n     </g>\n     <g id=\"text_5\">\n      <!-- 20 -->\n      <g transform=\"translate(249.9625 239.238438)scale(0.1 -0.1)\">\n       <defs>\n        <path d=\"M 19.1875 8.296875 \nL 53.609375 8.296875 \nL 53.609375 0 \nL 7.328125 0 \nL 7.328125 8.296875 \nQ 12.9375 14.109375 22.625 23.890625 \nQ 32.328125 33.6875 34.8125 36.53125 \nQ 39.546875 41.84375 41.421875 45.53125 \nQ 43.3125 49.21875 43.3125 52.78125 \nQ 43.3125 58.59375 39.234375 62.25 \nQ 35.15625 65.921875 28.609375 65.921875 \nQ 23.96875 65.921875 18.8125 64.3125 \nQ 13.671875 62.703125 7.8125 59.421875 \nL 7.8125 69.390625 \nQ 13.765625 71.78125 18.9375 73 \nQ 24.125 74.21875 28.421875 74.21875 \nQ 39.75 74.21875 46.484375 68.546875 \nQ 53.21875 62.890625 53.21875 53.421875 \nQ 53.21875 48.921875 51.53125 44.890625 \nQ 49.859375 40.875 45.40625 35.40625 \nQ 44.1875 33.984375 37.640625 27.21875 \nQ 31.109375 20.453125 19.1875 8.296875 \nz\n\" id=\"DejaVuSans-50\"/>\n       </defs>\n       <use xlink:href=\"#DejaVuSans-50\"/>\n       <use x=\"63.623047\" xlink:href=\"#DejaVuSans-48\"/>\n      </g>\n     </g>\n    </g>\n    <g id=\"xtick_6\">\n     <g id=\"line2d_6\">\n      <g>\n       <use style=\"stroke:#000000;stroke-width:0.8;\" x=\"312.688636\" xlink:href=\"#md22bf62cad\" y=\"224.64\"/>\n      </g>\n     </g>\n     <g id=\"text_6\">\n      <!-- 25 -->\n      <g transform=\"translate(306.326136 239.238438)scale(0.1 -0.1)\">\n       <use xlink:href=\"#DejaVuSans-50\"/>\n       <use x=\"63.623047\" xlink:href=\"#DejaVuSans-53\"/>\n      </g>\n     </g>\n    </g>\n   </g>\n   <g id=\"matplotlib.axis_2\">\n    <g id=\"ytick_1\">\n     <g id=\"line2d_7\">\n      <defs>\n       <path d=\"M 0 0 \nL -3.5 0 \n\" id=\"mff96f0703b\" style=\"stroke:#000000;stroke-width:0.8;\"/>\n      </defs>\n      <g>\n       <use style=\"stroke:#000000;stroke-width:0.8;\" x=\"26.925\" xlink:href=\"#mff96f0703b\" y=\"214.756364\"/>\n      </g>\n     </g>\n     <g id=\"text_7\">\n      <!-- 0 -->\n      <g transform=\"translate(13.5625 218.555582)scale(0.1 -0.1)\">\n       <use xlink:href=\"#DejaVuSans-48\"/>\n      </g>\n     </g>\n    </g>\n    <g id=\"ytick_2\">\n     <g id=\"line2d_8\">\n      <g>\n       <use style=\"stroke:#000000;stroke-width:0.8;\" x=\"26.925\" xlink:href=\"#mff96f0703b\" y=\"171.784032\"/>\n      </g>\n     </g>\n     <g id=\"text_8\">\n      <!-- 20 -->\n      <g transform=\"translate(7.2 175.58325)scale(0.1 -0.1)\">\n       <use xlink:href=\"#DejaVuSans-50\"/>\n       <use x=\"63.623047\" xlink:href=\"#DejaVuSans-48\"/>\n      </g>\n     </g>\n    </g>\n    <g id=\"ytick_3\">\n     <g id=\"line2d_9\">\n      <g>\n       <use style=\"stroke:#000000;stroke-width:0.8;\" x=\"26.925\" xlink:href=\"#mff96f0703b\" y=\"128.8117\"/>\n      </g>\n     </g>\n     <g id=\"text_9\">\n      <!-- 40 -->\n      <g transform=\"translate(7.2 132.610918)scale(0.1 -0.1)\">\n       <defs>\n        <path d=\"M 37.796875 64.3125 \nL 12.890625 25.390625 \nL 37.796875 25.390625 \nz\nM 35.203125 72.90625 \nL 47.609375 72.90625 \nL 47.609375 25.390625 \nL 58.015625 25.390625 \nL 58.015625 17.1875 \nL 47.609375 17.1875 \nL 47.609375 0 \nL 37.796875 0 \nL 37.796875 17.1875 \nL 4.890625 17.1875 \nL 4.890625 26.703125 \nz\n\" id=\"DejaVuSans-52\"/>\n       </defs>\n       <use xlink:href=\"#DejaVuSans-52\"/>\n       <use x=\"63.623047\" xlink:href=\"#DejaVuSans-48\"/>\n      </g>\n     </g>\n    </g>\n    <g id=\"ytick_4\">\n     <g id=\"line2d_10\">\n      <g>\n       <use style=\"stroke:#000000;stroke-width:0.8;\" x=\"26.925\" xlink:href=\"#mff96f0703b\" y=\"85.839368\"/>\n      </g>\n     </g>\n     <g id=\"text_10\">\n      <!-- 60 -->\n      <g transform=\"translate(7.2 89.638586)scale(0.1 -0.1)\">\n       <defs>\n        <path d=\"M 33.015625 40.375 \nQ 26.375 40.375 22.484375 35.828125 \nQ 18.609375 31.296875 18.609375 23.390625 \nQ 18.609375 15.53125 22.484375 10.953125 \nQ 26.375 6.390625 33.015625 6.390625 \nQ 39.65625 6.390625 43.53125 10.953125 \nQ 47.40625 15.53125 47.40625 23.390625 \nQ 47.40625 31.296875 43.53125 35.828125 \nQ 39.65625 40.375 33.015625 40.375 \nz\nM 52.59375 71.296875 \nL 52.59375 62.3125 \nQ 48.875 64.0625 45.09375 64.984375 \nQ 41.3125 65.921875 37.59375 65.921875 \nQ 27.828125 65.921875 22.671875 59.328125 \nQ 17.53125 52.734375 16.796875 39.40625 \nQ 19.671875 43.65625 24.015625 45.921875 \nQ 28.375 48.1875 33.59375 48.1875 \nQ 44.578125 48.1875 50.953125 41.515625 \nQ 57.328125 34.859375 57.328125 23.390625 \nQ 57.328125 12.15625 50.6875 5.359375 \nQ 44.046875 -1.421875 33.015625 -1.421875 \nQ 20.359375 -1.421875 13.671875 8.265625 \nQ 6.984375 17.96875 6.984375 36.375 \nQ 6.984375 53.65625 15.1875 63.9375 \nQ 23.390625 74.21875 37.203125 74.21875 \nQ 40.921875 74.21875 44.703125 73.484375 \nQ 48.484375 72.75 52.59375 71.296875 \nz\n\" id=\"DejaVuSans-54\"/>\n       </defs>\n       <use xlink:href=\"#DejaVuSans-54\"/>\n       <use x=\"63.623047\" xlink:href=\"#DejaVuSans-48\"/>\n      </g>\n     </g>\n    </g>\n    <g id=\"ytick_5\">\n     <g id=\"line2d_11\">\n      <g>\n       <use style=\"stroke:#000000;stroke-width:0.8;\" x=\"26.925\" xlink:href=\"#mff96f0703b\" y=\"42.867036\"/>\n      </g>\n     </g>\n     <g id=\"text_11\">\n      <!-- 80 -->\n      <g transform=\"translate(7.2 46.666254)scale(0.1 -0.1)\">\n       <defs>\n        <path d=\"M 31.78125 34.625 \nQ 24.75 34.625 20.71875 30.859375 \nQ 16.703125 27.09375 16.703125 20.515625 \nQ 16.703125 13.921875 20.71875 10.15625 \nQ 24.75 6.390625 31.78125 6.390625 \nQ 38.8125 6.390625 42.859375 10.171875 \nQ 46.921875 13.96875 46.921875 20.515625 \nQ 46.921875 27.09375 42.890625 30.859375 \nQ 38.875 34.625 31.78125 34.625 \nz\nM 21.921875 38.8125 \nQ 15.578125 40.375 12.03125 44.71875 \nQ 8.5 49.078125 8.5 55.328125 \nQ 8.5 64.0625 14.71875 69.140625 \nQ 20.953125 74.21875 31.78125 74.21875 \nQ 42.671875 74.21875 48.875 69.140625 \nQ 55.078125 64.0625 55.078125 55.328125 \nQ 55.078125 49.078125 51.53125 44.71875 \nQ 48 40.375 41.703125 38.8125 \nQ 48.828125 37.15625 52.796875 32.3125 \nQ 56.78125 27.484375 56.78125 20.515625 \nQ 56.78125 9.90625 50.3125 4.234375 \nQ 43.84375 -1.421875 31.78125 -1.421875 \nQ 19.734375 -1.421875 13.25 4.234375 \nQ 6.78125 9.90625 6.78125 20.515625 \nQ 6.78125 27.484375 10.78125 32.3125 \nQ 14.796875 37.15625 21.921875 38.8125 \nz\nM 18.3125 54.390625 \nQ 18.3125 48.734375 21.84375 45.5625 \nQ 25.390625 42.390625 31.78125 42.390625 \nQ 38.140625 42.390625 41.71875 45.5625 \nQ 45.3125 48.734375 45.3125 54.390625 \nQ 45.3125 60.0625 41.71875 63.234375 \nQ 38.140625 66.40625 31.78125 66.40625 \nQ 25.390625 66.40625 21.84375 63.234375 \nQ 18.3125 60.0625 18.3125 54.390625 \nz\n\" id=\"DejaVuSans-56\"/>\n       </defs>\n       <use xlink:href=\"#DejaVuSans-56\"/>\n       <use x=\"63.623047\" xlink:href=\"#DejaVuSans-48\"/>\n      </g>\n     </g>\n    </g>\n   </g>\n   <g id=\"patch_3\">\n    <path d=\"M 26.925 224.64 \nL 26.925 7.2 \n\" style=\"fill:none;stroke:#000000;stroke-linecap:square;stroke-linejoin:miter;stroke-width:0.8;\"/>\n   </g>\n   <g id=\"patch_4\">\n    <path d=\"M 361.725 224.64 \nL 361.725 7.2 \n\" style=\"fill:none;stroke:#000000;stroke-linecap:square;stroke-linejoin:miter;stroke-width:0.8;\"/>\n   </g>\n   <g id=\"patch_5\">\n    <path d=\"M 26.925 224.64 \nL 361.725 224.64 \n\" style=\"fill:none;stroke:#000000;stroke-linecap:square;stroke-linejoin:miter;stroke-width:0.8;\"/>\n   </g>\n   <g id=\"patch_6\">\n    <path d=\"M 26.925 7.2 \nL 361.725 7.2 \n\" style=\"fill:none;stroke:#000000;stroke-linecap:square;stroke-linejoin:miter;stroke-width:0.8;\"/>\n   </g>\n  </g>\n </g>\n <defs>\n  <clipPath id=\"p43855a19f9\">\n   <rect height=\"217.44\" width=\"334.8\" x=\"26.925\" y=\"7.2\"/>\n  </clipPath>\n </defs>\n</svg>\n",
      "image/png": "[encoded data removed]"
     },
     "metadata": {
      "needs_background": "light"
     }
    }
   ],
   "source": [
    "demand_4W = Demand(period=len(four_weeks_uprising), data=four_weeks_uprising)\n",
    "env_4W, eval_callback_4W, demand_4W = env_cb_creator(config, demand_4W)"
   ]
  },
  {
   "cell_type": "markdown",
   "metadata": {},
   "source": [
    "### Quick Health Check\n",
    "- The observation is much neater compared to earlier versions"
   ]
  },
  {
   "cell_type": "code",
   "execution_count": 5,
   "metadata": {
    "scrolled": false
   },
   "outputs": [
    {
     "output_type": "stream",
     "name": "stdout",
     "text": [
      "Random step:\t 0\nTimestep:\t 23 \nAction:\t\t 1 \nDemand:\t\t 29 \nReward:\t\t -2000 \nDone:\t\t False \nInfo:\t\t \n  timestep_change          22 -> 23\n  action_change            2 -> 1\n  demand_surrounding       [83]-NOW(29)-[40 86 70]\n  next_profitable_demand   2\n  demand_observation       0.5 \nShape:\t\t (5,) \nObservation:\n [0.5 0.  1.  0.  0. ] \n\nRandom step:\t 1\nTimestep:\t 24 \nAction:\t\t 2 \nDemand:\t\t 40 \nReward:\t\t -1000 \nDone:\t\t False \nInfo:\t\t \n  timestep_change          23 -> 24\n  action_change            1 -> 2\n  demand_surrounding       [29]-NOW(40)-[86 70 45]\n  next_profitable_demand   1\n  demand_observation       1.0 \nShape:\t\t (5,) \nObservation:\n [1. 0. 0. 1. 0.] \n\nRandom step:\t 2\nTimestep:\t 11 \nAction:\t\t 3 \nDemand:\t\t 0 \nReward:\t\t -500 \nDone:\t\t False \nInfo:\t\t \n  timestep_change          10 -> 11\n  action_change            0 -> 3\n  demand_surrounding       [2]-NOW(0)-[3 1 0]\n  next_profitable_demand   8\n  demand_observation       0.125 \nShape:\t\t (5,) \nObservation:\n [0.125 0.    0.    0.    1.   ] \n\n"
     ]
    }
   ],
   "source": [
    "env_health(config, env_4W, first_step=False, random_steps=3, verbose=0)"
   ]
  },
  {
   "cell_type": "markdown",
   "metadata": {},
   "source": [
    "### Train and Evaluate\n",
    "Results look much more promising, as illegal moves are clearly learned and avoided. There are significant differences between repetitions!"
   ]
  },
  {
   "cell_type": "code",
   "execution_count": null,
   "metadata": {
    "scrolled": false
   },
   "outputs": [
    {
     "name": "stdout",
     "output_type": "stream",
     "text": [
      "\n",
      "Running repetition 1/15...\n",
      "POLICY EVALUATION RESULTS\n",
      "Evaluated episodes:\t50\n",
      "Mean reward:\t\t35640.0\n",
      "Standard deviation:\t15925.463886493228\n",
      "Economic potential:\t41000\n",
      "Lost potential:\t\t5360.0 (13.0732%)\n",
      "\n",
      "Running repetition 2/15...\n",
      "POLICY EVALUATION RESULTS\n",
      "Evaluated episodes:\t50\n",
      "Mean reward:\t\t28170.0\n",
      "Standard deviation:\t20689.27499938072\n",
      "Economic potential:\t41000\n",
      "Lost potential:\t\t12830.0 (31.2927%)\n",
      "\n",
      "Running repetition 3/15...\n",
      "POLICY EVALUATION RESULTS\n",
      "Evaluated episodes:\t50\n",
      "Mean reward:\t\t23060.0\n",
      "Standard deviation:\t10916.79440128832\n",
      "Economic potential:\t41000\n",
      "Lost potential:\t\t17940.0 (43.7561%)\n",
      "\n",
      "Running repetition 4/15...\n",
      "POLICY EVALUATION RESULTS\n",
      "Evaluated episodes:\t50\n",
      "Mean reward:\t\t36460.0\n",
      "Standard deviation:\t15712.682775388803\n",
      "Economic potential:\t41000\n",
      "Lost potential:\t\t4540.0 (11.0732%)\n",
      "\n",
      "Running repetition 5/15...\n",
      "POLICY EVALUATION RESULTS\n",
      "Evaluated episodes:\t50\n",
      "Mean reward:\t\t25580.0\n",
      "Standard deviation:\t10030.633080718286\n",
      "Economic potential:\t41000\n",
      "Lost potential:\t\t15420.0 (37.6098%)\n",
      "\n",
      "Running repetition 6/15...\n",
      "POLICY EVALUATION RESULTS\n",
      "Evaluated episodes:\t50\n",
      "Mean reward:\t\t25950.0\n",
      "Standard deviation:\t8435.786863120713\n",
      "Economic potential:\t41000\n",
      "Lost potential:\t\t15050.0 (36.7073%)\n",
      "\n",
      "Running repetition 7/15...\n",
      "POLICY EVALUATION RESULTS\n",
      "Evaluated episodes:\t50\n",
      "Mean reward:\t\t33750.0\n",
      "Standard deviation:\t14510.08270134943\n",
      "Economic potential:\t41000\n",
      "Lost potential:\t\t7250.0 (17.6829%)\n",
      "\n",
      "Running repetition 8/15...\n",
      "POLICY EVALUATION RESULTS\n",
      "Evaluated episodes:\t50\n",
      "Mean reward:\t\t35490.0\n",
      "Standard deviation:\t15222.84139048949\n",
      "Economic potential:\t41000\n",
      "Lost potential:\t\t5510.0 (13.439%)\n",
      "\n",
      "Running repetition 9/15...\n",
      "POLICY EVALUATION RESULTS\n",
      "Evaluated episodes:\t50\n",
      "Mean reward:\t\t34230.0\n",
      "Standard deviation:\t16009.125522651137\n",
      "Economic potential:\t41000\n",
      "Lost potential:\t\t6770.0 (16.5122%)\n",
      "\n",
      "Running repetition 10/15...\n",
      "POLICY EVALUATION RESULTS\n",
      "Evaluated episodes:\t50\n",
      "Mean reward:\t\t38230.0\n",
      "Standard deviation:\t14786.889463304986\n",
      "Economic potential:\t41000\n",
      "Lost potential:\t\t2770.0 (6.7561%)\n",
      "\n",
      "Running repetition 11/15...\n",
      "POLICY EVALUATION RESULTS\n",
      "Evaluated episodes:\t50\n",
      "Mean reward:\t\t23770.0\n",
      "Standard deviation:\t11600.521539999829\n",
      "Economic potential:\t41000\n",
      "Lost potential:\t\t17230.0 (42.0244%)\n",
      "\n",
      "Running repetition 12/15...\n",
      "POLICY EVALUATION RESULTS\n",
      "Evaluated episodes:\t50\n",
      "Mean reward:\t\t33380.0\n",
      "Standard deviation:\t14052.956984207985\n",
      "Economic potential:\t41000\n",
      "Lost potential:\t\t7620.0 (18.5854%)\n",
      "\n",
      "Running repetition 13/15...\n"
     ]
    }
   ],
   "source": [
    "best_model, train_env, eval_env = train_and_evaluate(\n",
    "    config=config,\n",
    "    train_env=env_4W,\n",
    "    eval_env=env_4W,\n",
    "    eval_callback=eval_callback_4W,\n",
    "    tb_log_name=f\"A2C_train4W_eval4W_{tb_suffix}\",\n",
    ")"
   ]
  },
  {
   "cell_type": "markdown",
   "metadata": {},
   "source": [
    "15 repetitions over 150k episodes show results with variance remaining when applying the models!\n",
    "\n",
    "![Evaluation](docs/nb12-eval.png)"
   ]
  },
  {
   "cell_type": "markdown",
   "metadata": {},
   "source": [
    "### Tensorboard"
   ]
  },
  {
   "cell_type": "code",
   "execution_count": null,
   "metadata": {},
   "outputs": [],
   "source": [
    "if 1 == 1:\n",
    "    pid = subprocess.Popen(\n",
    "        [\"tensorboard\", \"--logdir\", f\"./{config['TENSORBOARD_LOG']}\", \"--port\", \"6006\"]\n",
    "    )\n",
    "    os.system(\"sleep 5\")\n",
    "    webbrowser.open(\"http://localhost:6006\")"
   ]
  },
  {
   "cell_type": "code",
   "execution_count": null,
   "metadata": {},
   "outputs": [],
   "source": [
    "if 1 == 0:\n",
    "    os.system(\"kill -9 $(lsof -t -i:6006)\")"
   ]
  },
  {
   "cell_type": "code",
   "execution_count": null,
   "metadata": {},
   "outputs": [],
   "source": []
  }
 ],
 "metadata": {
  "jupytext": {
   "formats": "ipynb,py:percent"
  },
  "kernelspec": {
   "display_name": "Python 3",
   "language": "python",
   "name": "python3"
  },
  "language_info": {
   "codemirror_mode": {
    "name": "ipython",
    "version": 3
   },
   "file_extension": ".py",
   "mimetype": "text/x-python",
   "name": "python",
   "nbconvert_exporter": "python",
   "pygments_lexer": "ipython3",
   "version": "3.8.5-final"
  }
 },
 "nbformat": 4,
 "nbformat_minor": 4
}
