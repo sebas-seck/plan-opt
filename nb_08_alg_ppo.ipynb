{
 "cells": [
  {
   "cell_type": "markdown",
   "metadata": {},
   "source": [
    "# 8 Review of `rampup-v1` with SB3's PPO implementation"
   ]
  },
  {
   "cell_type": "code",
   "execution_count": 1,
   "metadata": {},
   "outputs": [],
   "source": [
    "import numpy as np\n",
    "import gym\n",
    "from gym import spaces\n",
    "from stable_baselines3 import PPO\n",
    "from plan_opt.demand import Demand\n",
    "from plan_opt.envs.rampup1 import RampupEnv1 as RampupEnv"
   ]
  },
  {
   "cell_type": "code",
   "execution_count": 2,
   "metadata": {},
   "outputs": [
    {
     "name": "stdout",
     "output_type": "stream",
     "text": [
      "Seed is 3348\n",
      "Period is 1095\n",
      "Sudden change:\n",
      "    Start: 424\n",
      "    Magnitude: 1029.305226873561\n",
      "    Steepness: 36.97791532270635\n",
      "    Direction: UP\n"
     ]
    },
    {
     "data": {
      "image/png": "[encoded data removed]",
      "text/plain": [
       "<Figure size 432x288 with 2 Axes>"
      ]
     },
     "metadata": {
      "needs_background": "light"
     },
     "output_type": "display_data"
    }
   ],
   "source": [
    "D = Demand(seed=3348)\n",
    "D.generate_demand()\n",
    "D.add_sudden_change()\n",
    "D.info()\n",
    "D.show()"
   ]
  },
  {
   "cell_type": "markdown",
   "metadata": {},
   "source": [
    "### Create the environment\n",
    "The action space is descrete, only categorical changes of equipment are allowed."
   ]
  },
  {
   "cell_type": "code",
   "execution_count": 3,
   "metadata": {},
   "outputs": [],
   "source": [
    "env = RampupEnv(demand=D)"
   ]
  },
  {
   "cell_type": "markdown",
   "metadata": {},
   "source": [
    "### Train the model"
   ]
  },
  {
   "cell_type": "code",
   "execution_count": 4,
   "metadata": {},
   "outputs": [
    {
     "name": "stdout",
     "output_type": "stream",
     "text": [
      "Using cpu device\n",
      "Wrapping the env in a DummyVecEnv.\n",
      "-----------------------------\n",
      "| time/              |      |\n",
      "|    fps             | 1971 |\n",
      "|    iterations      | 1    |\n",
      "|    time_elapsed    | 1    |\n",
      "|    total_timesteps | 2048 |\n",
      "-----------------------------\n",
      "--------------------------------------------\n",
      "| time/                   |                |\n",
      "|    fps                  | 1516           |\n",
      "|    iterations           | 2              |\n",
      "|    time_elapsed         | 2              |\n",
      "|    total_timesteps      | 4096           |\n",
      "| train/                  |                |\n",
      "|    approx_kl            | -2.6028778e-05 |\n",
      "|    clip_fraction        | 0              |\n",
      "|    clip_range           | 0.2            |\n",
      "|    entropy_loss         | -1.39          |\n",
      "|    explained_variance   | -2.42e+10      |\n",
      "|    learning_rate        | 0.0003         |\n",
      "|    loss                 | 1.27e+09       |\n",
      "|    n_updates            | 10             |\n",
      "|    policy_gradient_loss | -0.00326       |\n",
      "|    value_loss           | 2.72e+09       |\n",
      "--------------------------------------------\n",
      "CPU times: user 4.82 s, sys: 5.24 s, total: 10.1 s\n",
      "Wall time: 3.47 s\n"
     ]
    },
    {
     "data": {
      "text/plain": [
       "<stable_baselines3.ppo.ppo.PPO at 0x7fdfb6a95880>"
      ]
     },
     "execution_count": 4,
     "metadata": {},
     "output_type": "execute_result"
    }
   ],
   "source": [
    "%%time\n",
    "model = PPO(\"MlpPolicy\", env, verbose=1)\n",
    "model.learn(total_timesteps=2500)"
   ]
  },
  {
   "cell_type": "markdown",
   "metadata": {},
   "source": [
    "### Predict"
   ]
  },
  {
   "cell_type": "code",
   "execution_count": 5,
   "metadata": {},
   "outputs": [
    {
     "name": "stdout",
     "output_type": "stream",
     "text": [
      "Reward so far: 10475500\n",
      "Economic potential: 16205500\n",
      "Lost potential: 5730000 (35.3584%)\n",
      "\n",
      "Reward so far: 10881000\n",
      "Economic potential: 16205500\n",
      "Lost potential: 5324500 (32.8561%)\n",
      "\n",
      "Reward so far: 16196500\n",
      "Economic potential: 16205500\n",
      "Lost potential: 9000 (0.0555%)\n",
      "\n",
      "Reward so far: 2640000\n",
      "Economic potential: 16205500\n",
      "Lost potential: 13565500 (83.7092%)\n",
      "\n",
      "Reward so far: 10033000\n",
      "Economic potential: 16205500\n",
      "Lost potential: 6172500 (38.0889%)\n",
      "\n",
      "Reward so far: 13536000\n",
      "Economic potential: 16205500\n",
      "Lost potential: 2669500 (16.4728%)\n",
      "\n",
      "Reward so far: 8953000\n",
      "Economic potential: 16205500\n",
      "Lost potential: 7252500 (44.7533%)\n",
      "\n",
      "Reward so far: 15165000\n",
      "Economic potential: 16205500\n",
      "Lost potential: 1040500 (6.4207%)\n",
      "\n",
      "Reward so far: 3944000\n",
      "Economic potential: 16205500\n",
      "Lost potential: 12261500 (75.6626%)\n",
      "\n",
      "Reward so far: 2684000\n",
      "Economic potential: 16205500\n",
      "Lost potential: 13521500 (83.4377%)\n",
      "\n",
      "Reward so far: 8413000\n",
      "Economic potential: 16205500\n",
      "Lost potential: 7792500 (48.0855%)\n",
      "\n",
      "Reward so far: 4229500\n",
      "Economic potential: 16205500\n",
      "Lost potential: 11976000 (73.9008%)\n",
      "\n",
      "Reward so far: 12290500\n",
      "Economic potential: 16205500\n",
      "Lost potential: 3915000 (24.1585%)\n",
      "\n",
      "Reward so far: 5729500\n",
      "Economic potential: 16205500\n",
      "Lost potential: 10476000 (64.6447%)\n",
      "\n",
      "Reward so far: 10729000\n",
      "Economic potential: 16205500\n",
      "Lost potential: 5476500 (33.7941%)\n",
      "\n"
     ]
    }
   ],
   "source": [
    "obs = env.reset()\n",
    "for i in range(10000):\n",
    "    action, _states = model.predict(obs, deterministic=True)\n",
    "    obs, reward, done, info = env.step(action)\n",
    "    if done:\n",
    "        env.render()\n",
    "        obs = env.reset()\n",
    "\n",
    "# env.close()\n",
    "# env.render()"
   ]
  },
  {
   "cell_type": "code",
   "execution_count": 6,
   "metadata": {},
   "outputs": [],
   "source": [
    "def evaluate(model, num_steps=1000):\n",
    "    \"\"\"\n",
    "    Evaluate a RL agent\n",
    "    :param model: (BaseRLModel object) the RL Agent\n",
    "    :param num_steps: (int) number of timesteps to evaluate it\n",
    "    :return: (float) Mean reward for the last 100 episodes\n",
    "    \"\"\"\n",
    "    episode_rewards = [0.0]\n",
    "    obs = env.reset()\n",
    "    for i in range(num_steps):\n",
    "        # _states are only useful when using LSTM policies\n",
    "        action, _states = model.predict(obs)\n",
    "\n",
    "        obs, reward, done, info = env.step(action)\n",
    "\n",
    "        # Stats\n",
    "        episode_rewards[-1] += reward\n",
    "        if done:\n",
    "            obs = env.reset()\n",
    "            episode_rewards.append(0.0)\n",
    "    # Compute mean reward for the last 100 episodes\n",
    "    mean_100ep_reward = round(np.mean(episode_rewards[-100:]), 1)\n",
    "    print(\"Mean reward:\", mean_100ep_reward, \"Num episodes:\", len(episode_rewards))\n",
    "\n",
    "    return mean_100ep_reward"
   ]
  },
  {
   "cell_type": "code",
   "execution_count": 7,
   "metadata": {},
   "outputs": [
    {
     "name": "stdout",
     "output_type": "stream",
     "text": [
      "Mean reward: 1620050.0 Num episodes: 20\n"
     ]
    }
   ],
   "source": [
    "# Evaluate the trained agent\n",
    "mean_reward = evaluate(model, num_steps=10000)"
   ]
  },
  {
   "cell_type": "code",
   "execution_count": 8,
   "metadata": {},
   "outputs": [
    {
     "data": {
      "text/plain": [
       "ActorCriticPolicy(\n",
       "  (features_extractor): FlattenExtractor(\n",
       "    (flatten): Flatten()\n",
       "  )\n",
       "  (mlp_extractor): MlpExtractor(\n",
       "    (shared_net): Sequential()\n",
       "    (policy_net): Sequential(\n",
       "      (0): Linear(in_features=15, out_features=64, bias=True)\n",
       "      (1): Tanh()\n",
       "      (2): Linear(in_features=64, out_features=64, bias=True)\n",
       "      (3): Tanh()\n",
       "    )\n",
       "    (value_net): Sequential(\n",
       "      (0): Linear(in_features=15, out_features=64, bias=True)\n",
       "      (1): Tanh()\n",
       "      (2): Linear(in_features=64, out_features=64, bias=True)\n",
       "      (3): Tanh()\n",
       "    )\n",
       "  )\n",
       "  (action_net): Linear(in_features=64, out_features=4, bias=True)\n",
       "  (value_net): Linear(in_features=64, out_features=1, bias=True)\n",
       ")"
      ]
     },
     "execution_count": 8,
     "metadata": {},
     "output_type": "execute_result"
    }
   ],
   "source": [
    "model.policy"
   ]
  },
  {
   "cell_type": "code",
   "execution_count": 9,
   "metadata": {},
   "outputs": [
    {
     "data": {
      "text/plain": [
       "0.0003"
      ]
     },
     "execution_count": 9,
     "metadata": {},
     "output_type": "execute_result"
    }
   ],
   "source": [
    "model.learning_rate"
   ]
  },
  {
   "cell_type": "code",
   "execution_count": null,
   "metadata": {},
   "outputs": [],
   "source": []
  }
 ],
 "metadata": {
  "jupytext": {
   "formats": "py:percent,ipynb"
  },
  "kernelspec": {
   "display_name": "Python 3",
   "language": "python",
   "name": "python3"
  },
  "language_info": {
   "codemirror_mode": {
    "name": "ipython",
    "version": 3
   },
   "file_extension": ".py",
   "mimetype": "text/x-python",
   "name": "python",
   "nbconvert_exporter": "python",
   "pygments_lexer": "ipython3",
   "version": "3.8.5"
  }
 },
 "nbformat": 4,
 "nbformat_minor": 4
}
