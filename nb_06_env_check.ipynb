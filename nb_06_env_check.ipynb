{
 "cells": [
  {
   "cell_type": "markdown",
   "metadata": {},
   "source": [
    "# 6 `rampup-v1` Environment Check with SB3\n",
    "Stable Baselines3 offers an [environment checker](https://stable-baselines3.readthedocs.io/en/master/common/env_checker.html?highlight=check_env) to test an environment for conformity with the Gym API. Warnings are returned if the environment does not conform."
   ]
  },
  {
   "cell_type": "code",
   "execution_count": 1,
   "metadata": {},
   "outputs": [],
   "source": [
    "import numpy as np\n",
    "from plan_opt.demand import Demand\n",
    "from plan_opt.envs.rampup1 import RampupEnv1\n",
    "from stable_baselines3.common.env_checker import check_env"
   ]
  },
  {
   "cell_type": "code",
   "execution_count": 2,
   "metadata": {},
   "outputs": [],
   "source": [
    "D = Demand(seed=3348)\n",
    "D.generate_demand()\n",
    "D.add_sudden_change()"
   ]
  },
  {
   "cell_type": "code",
   "execution_count": 3,
   "metadata": {},
   "outputs": [],
   "source": [
    "env = RampupEnv1(demand=D)"
   ]
  },
  {
   "cell_type": "code",
   "execution_count": 4,
   "metadata": {},
   "outputs": [
    {
     "data": {
      "text/plain": [
       "array([[[229, 205, 164],\n",
       "        [  0,   0,   0],\n",
       "        [  1,   0,   1],\n",
       "        [  0,   1,   0],\n",
       "        [  1,   0,   1]]], dtype=uint8)"
      ]
     },
     "execution_count": 4,
     "metadata": {},
     "output_type": "execute_result"
    }
   ],
   "source": [
    "a = env.observation_space.sample()\n",
    "a"
   ]
  },
  {
   "cell_type": "code",
   "execution_count": 5,
   "metadata": {},
   "outputs": [
    {
     "data": {
      "text/plain": [
       "(1, 5, 3)"
      ]
     },
     "execution_count": 5,
     "metadata": {},
     "output_type": "execute_result"
    }
   ],
   "source": [
    "a.shape"
   ]
  },
  {
   "cell_type": "code",
   "execution_count": 6,
   "metadata": {},
   "outputs": [
    {
     "data": {
      "text/plain": [
       "array([[[1, 1, 2],\n",
       "        [0, 0, 0],\n",
       "        [1, 0, 0],\n",
       "        [0, 0, 0],\n",
       "        [0, 0, 0]]], dtype=uint8)"
      ]
     },
     "execution_count": 6,
     "metadata": {},
     "output_type": "execute_result"
    }
   ],
   "source": [
    "b = env.reset()\n",
    "b"
   ]
  },
  {
   "cell_type": "code",
   "execution_count": 7,
   "metadata": {},
   "outputs": [
    {
     "data": {
      "text/plain": [
       "(1, 5, 3)"
      ]
     },
     "execution_count": 7,
     "metadata": {},
     "output_type": "execute_result"
    }
   ],
   "source": [
    "b.shape"
   ]
  },
  {
   "cell_type": "code",
   "execution_count": 8,
   "metadata": {},
   "outputs": [
    {
     "data": {
      "text/plain": [
       "1098"
      ]
     },
     "execution_count": 8,
     "metadata": {},
     "output_type": "execute_result"
    }
   ],
   "source": [
    "len(env.obs_demand)"
   ]
  },
  {
   "cell_type": "code",
   "execution_count": 9,
   "metadata": {},
   "outputs": [
    {
     "data": {
      "text/plain": [
       "array([ 1,  0,  1,  2,  0,  2,  1,  0,  1,  1,  1,  1,  1,  2,  1,  1,  2,\n",
       "        2,  1,  1,  2,  1,  1,  0,  1,  2,  1,  1,  1,  1,  1,  0,  1,  1,\n",
       "        1,  1,  1,  2,  1,  1,  1,  2,  2,  1,  0,  0,  1,  1,  2,  1,  1,\n",
       "        0,  1,  1,  1,  1,  2,  1,  1,  1,  2,  1,  1,  0,  1,  1,  1,  2,\n",
       "        1,  2,  2,  2,  2,  1,  1,  2,  1,  1,  1,  2,  1,  1,  3,  2,  1,\n",
       "        2,  2,  1,  2,  3,  6,  1,  2,  1,  2,  2,  1,  2,  2,  1,  1,  2,\n",
       "        1,  2,  1,  1,  2,  2,  1,  1,  1,  1,  1,  1,  2,  1,  2,  1,  1,\n",
       "        2,  2,  1,  1,  2,  2,  0,  2,  1,  2,  1,  2,  1,  1,  1,  1,  1,\n",
       "        2,  1,  1,  2,  1,  2,  1,  3,  1,  1,  1,  2,  2,  1,  1,  2,  0,\n",
       "        1,  1,  2,  1,  2,  2,  1,  1,  2,  2,  1,  2,  1,  1,  1,  1,  1,\n",
       "        2,  2,  1,  1,  1,  1,  2,  2,  2,  1,  2,  1,  1,  1,  1,  2,  1,\n",
       "        1,  2,  2,  1,  1,  2,  2,  2,  1,  1,  1,  1,  2,  1,  1,  1,  2,\n",
       "        1,  2,  1,  2,  2,  1,  2,  2,  1,  1,  1,  1,  1,  2,  1,  1,  2,\n",
       "        1,  2,  1,  2,  2,  2,  2,  1,  2,  2,  2,  1,  2,  1,  1,  1,  1,\n",
       "        1,  2,  2,  1,  2,  1,  2,  2,  1,  2,  2,  2,  1,  1,  2,  2,  1,\n",
       "        2,  2,  2,  1,  2,  1,  1,  1,  1,  1,  2,  1,  2,  1,  2,  1,  1,\n",
       "        1,  1,  2,  2,  1,  3,  1,  2,  2,  1,  1,  1,  2,  2,  2,  2,  1,\n",
       "        2,  1,  1,  1,  3,  1,  1,  1,  1,  1,  1,  1,  1,  2,  2,  1,  1,\n",
       "        1,  1,  1,  2,  1,  1,  1,  1,  1,  1,  1,  1,  2,  1,  2,  2,  1,\n",
       "        3,  2,  2,  2,  2,  1,  2,  1,  1,  1,  1,  1,  2,  2,  1,  1,  2,\n",
       "        1,  2,  1,  2,  2,  1,  1,  1,  2,  1,  1,  1,  1,  1,  1,  1,  1,\n",
       "        2,  1,  1,  2,  1,  2,  1,  1,  3,  1,  1,  1,  1,  1,  2,  1,  1,\n",
       "        1,  1,  1,  1,  2,  1,  2,  1,  1,  1,  2,  1,  1,  1,  2,  1,  2,\n",
       "        1,  1,  2,  0,  1,  2,  2,  0,  2,  1,  2,  0,  2,  2,  1,  2,  2,\n",
       "        2,  1,  2,  2,  2,  1,  1,  0,  1,  1,  2,  1,  2,  2,  1,  1,  2,\n",
       "        2,  1,  2,  2,  1,  2,  1,  1,  2,  1,  1,  1,  3,  2,  2,  2,  2,\n",
       "        2,  2,  2,  1,  1,  2,  2,  1,  2,  1,  1,  2,  2,  2,  3,  2,  1,\n",
       "        2,  2,  2,  3,  2,  2,  1,  2,  1,  3,  2,  2,  2,  2,  1,  3,  3,\n",
       "        3,  2,  1,  2,  3,  2,  1,  1,  2,  1,  1,  4,  2,  2,  2,  2,  1,\n",
       "        2,  1,  1,  1,  2,  1,  1,  2,  2,  1,  3,  2,  2,  2,  2,  2,  2,\n",
       "        2,  1,  4,  3,  1,  2,  2,  2,  2,  2,  1,  1,  2,  1,  2,  2,  2,\n",
       "        2,  2,  2,  2,  2,  1,  2,  1,  2,  3,  1,  2,  2,  2,  2,  1,  2,\n",
       "        2,  2,  2,  1,  1,  1,  2,  2,  2,  2,  2,  2,  2,  2,  2,  2,  2,\n",
       "        3,  1,  2,  2,  2,  2,  2,  2,  2,  1,  1,  2,  2,  1,  2,  2,  2,\n",
       "        3,  2,  1,  3,  2,  2,  2,  1,  2,  2,  2,  2,  1,  3,  2,  1,  2,\n",
       "        2,  2,  1,  3,  2,  4,  3,  2,  1,  2,  2,  2,  2,  2,  2,  2,  2,\n",
       "        1,  2,  2,  2,  1,  2,  2,  3,  3,  3,  2,  3,  2,  2,  2,  2,  2,\n",
       "        2,  2,  2,  2,  2,  2,  2,  2,  2,  2,  2,  2,  3,  2,  3,  2,  3,\n",
       "        2,  2,  2,  1,  3,  2,  2,  2,  2,  2,  2,  2,  2,  2,  2,  2,  3,\n",
       "        3,  2,  2,  2,  2,  2,  3,  3,  1,  2,  2,  2,  2,  2,  1,  2,  3,\n",
       "        2,  3,  1,  3,  2,  2,  2,  3,  3,  2,  2,  3,  3,  2,  3,  3,  2,\n",
       "        3,  2,  2,  2,  2,  3,  3,  4,  3,  3,  3,  3,  2,  3,  4,  3,  3,\n",
       "        3,  2,  3,  3,  3,  3,  4,  4,  3,  4,  3,  3,  3,  5,  5,  4,  3,\n",
       "        3,  4,  4,  4,  4,  4,  5,  4,  4,  4,  4,  4,  4,  4,  5,  5,  4,\n",
       "        6,  5,  5,  5,  4,  4,  6,  6,  5,  5,  5,  6,  6,  6,  6,  6,  6,\n",
       "        7,  5,  6,  6,  6,  7,  6,  7,  6,  7,  6,  7,  7,  7,  7,  8,  7,\n",
       "        7,  8,  8,  8,  8,  8,  9,  8,  8,  8, 10,  8,  8,  9,  9,  9,  9,\n",
       "       10,  9,  9,  9, 10, 10,  9, 10,  9, 10, 10, 10, 10, 10, 10, 10, 10,\n",
       "       10, 10, 11, 11, 10, 11, 11, 12, 11, 10, 11, 11, 11, 12, 12, 12, 12,\n",
       "       12, 11, 12, 12, 12, 12, 12, 11, 11, 12, 12, 12, 12, 13, 12, 13, 13,\n",
       "       13, 12, 13, 12, 12, 13, 13, 13, 14, 12, 13, 13, 13, 13, 13, 13, 13,\n",
       "       13, 13, 13, 14, 14, 13, 13, 13, 13, 13, 13, 13, 13, 13, 13, 13, 14,\n",
       "       14, 14, 19, 14, 14, 14, 13, 13, 14, 14, 14, 14, 14, 13, 13, 14, 14,\n",
       "       14, 14, 14, 14, 14, 15, 14, 15, 14, 13, 13, 14, 14, 14, 15, 14, 13,\n",
       "       14, 14, 15, 14, 15, 14, 15, 14, 13, 15, 14, 14, 14, 14, 15, 15, 14,\n",
       "       14, 14, 14, 14, 14, 14, 14, 14, 14, 14, 15, 15, 14, 14, 15, 14, 15,\n",
       "       14, 15, 14, 14, 14, 14, 14, 15, 14, 15, 15, 14, 15, 14, 14, 14, 15,\n",
       "       14, 14, 14, 14, 14, 14, 14, 14, 14, 14, 14, 15, 14, 14, 13, 14, 14,\n",
       "       15, 15, 14, 14, 14, 13, 13, 15, 14, 14, 15, 15, 14, 14, 16, 14, 14,\n",
       "       15, 14, 14, 15, 14, 14, 14, 14, 14, 14, 14, 15, 14, 15, 14, 14, 14,\n",
       "       14, 15, 15, 14, 14, 15, 14, 14, 14, 13, 14, 14, 15, 14, 14, 14, 15,\n",
       "       14, 14, 14, 14, 14, 15, 14, 14, 14, 14, 15, 13, 14, 14, 14, 14, 14,\n",
       "       15, 14, 16, 14, 15, 12, 14, 14, 14, 14, 14, 15, 14, 13, 14, 15, 14,\n",
       "       14, 14, 14, 14, 13, 14, 14, 15, 14, 14, 15, 14, 13, 14, 14, 14, 14,\n",
       "       13, 14, 14, 15, 14, 14, 14,  0,  0,  0], dtype=uint8)"
      ]
     },
     "execution_count": 9,
     "metadata": {},
     "output_type": "execute_result"
    }
   ],
   "source": [
    "np.set_printoptions(threshold=np.inf)\n",
    "env.obs_demand"
   ]
  },
  {
   "cell_type": "code",
   "execution_count": 10,
   "metadata": {},
   "outputs": [
    {
     "data": {
      "text/plain": [
       "Box(1, 5, 3)"
      ]
     },
     "execution_count": 10,
     "metadata": {},
     "output_type": "execute_result"
    }
   ],
   "source": [
    "env.observation_space"
   ]
  },
  {
   "cell_type": "code",
   "execution_count": 11,
   "metadata": {},
   "outputs": [
    {
     "name": "stderr",
     "output_type": "stream",
     "text": [
      "/Users/seppmacmini/opt/miniconda3/envs/rl/lib/python3.8/site-packages/stable_baselines3/common/env_checker.py:33: UserWarning: It seems that your observation space is an image but the upper and lower bounds are not in [0, 255]. Because the CNN policy normalize automatically the observation you may encounter issue if the values are not in that range.\n",
      "  warnings.warn(\n",
      "/Users/seppmacmini/opt/miniconda3/envs/rl/lib/python3.8/site-packages/stable_baselines3/common/env_checker.py:41: UserWarning: The minimal resolution for an image is 36x36 for the default CnnPolicy. You might need to use a custom `cnn_extractor` cf https://stable-baselines3.readthedocs.io/en/master/guide/custom_policy.html\n",
      "  warnings.warn(\n"
     ]
    }
   ],
   "source": [
    "check_env(env)"
   ]
  },
  {
   "cell_type": "code",
   "execution_count": null,
   "metadata": {},
   "outputs": [],
   "source": []
  }
 ],
 "metadata": {
  "jupytext": {
   "formats": "py:percent,ipynb"
  },
  "kernelspec": {
   "display_name": "Python 3",
   "language": "python",
   "name": "python3"
  },
  "language_info": {
   "codemirror_mode": {
    "name": "ipython",
    "version": 3
   },
   "file_extension": ".py",
   "mimetype": "text/x-python",
   "name": "python",
   "nbconvert_exporter": "python",
   "pygments_lexer": "ipython3",
   "version": "3.8.5"
  }
 },
 "nbformat": 4,
 "nbformat_minor": 4
}
